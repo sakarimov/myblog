{
 "cells": [
  {
   "cell_type": "code",
   "execution_count": 19,
   "id": "c7bccc22-9cad-470c-a7fb-8d6717a42618",
   "metadata": {},
   "outputs": [],
   "source": [
    "import numpy as np\n",
    "\n",
    "load_file = np.loadtxt('numpy#1.txt')\n",
    "data = load_file.reshape(4,7,4)"
   ]
  },
  {
   "cell_type": "markdown",
   "id": "6e56807b-0d0f-426f-96eb-9ee2950a4975",
   "metadata": {},
   "source": [
    "# Solusi Tugas numpy#1\n",
    "\n",
    "1. **Identifikasi Kategori Penjualan Tertinggi menurut Lokasi (Slicing Lanjutan):**\n",
    "\n",
    "    * Gunakan teknik slicing tingkat lanjut dalam NumPy untuk menghitung total penjualan untuk setiap kategori di semua ukuran di setiap lokasi.\n",
    "    * Petunjuk: Anda dapat menggabungkan slicing dasar (`:`) untuk memilih lokasi tertentu dan masking boolean untuk menjumlahkan di sepanjang sumbu kategori.\n",
    "    * Identifikasi kategori dengan penjualan tertinggi untuk setiap lokasi."
   ]
  },
  {
   "cell_type": "code",
   "execution_count": 20,
   "id": "c359d05d-9391-4b9d-87fe-3c768e244f2d",
   "metadata": {},
   "outputs": [
    {
     "data": {
      "text/plain": [
       "array([[[24.,  5., 22.,  7.],\n",
       "        [15., 19., 31., 28.],\n",
       "        [14., 25., 18.,  5.],\n",
       "        [ 5., 28., 26., 16.],\n",
       "        [20., 22., 26.,  9.],\n",
       "        [ 7., 19.,  4., 34.],\n",
       "        [ 6., 34., 23., 34.]],\n",
       "\n",
       "       [[11., 34., 15., 33.],\n",
       "        [ 8., 27., 19., 18.],\n",
       "        [12., 16.,  7., 26.],\n",
       "        [ 6., 34., 30., 21.],\n",
       "        [33.,  4., 13.,  7.],\n",
       "        [11., 12., 32.,  8.],\n",
       "        [27., 19., 16., 20.]],\n",
       "\n",
       "       [[21., 30.,  8., 22.],\n",
       "        [18., 30.,  9., 24.],\n",
       "        [19., 22., 29.,  8.],\n",
       "        [15., 19., 20., 30.],\n",
       "        [11., 12., 12.,  6.],\n",
       "        [33., 11., 27., 31.],\n",
       "        [13., 14., 28., 32.]],\n",
       "\n",
       "       [[29., 32., 22.,  7.],\n",
       "        [14.,  4.,  7.,  4.],\n",
       "        [24., 14., 28., 21.],\n",
       "        [28., 25., 10., 15.],\n",
       "        [14., 15., 15.,  3.],\n",
       "        [22.,  6.,  4., 26.],\n",
       "        [32., 27., 32.,  4.]]])"
      ]
     },
     "execution_count": 20,
     "metadata": {},
     "output_type": "execute_result"
    }
   ],
   "source": [
    "data"
   ]
  },
  {
   "cell_type": "code",
   "execution_count": 21,
   "id": "3651b55a-5fde-4b7c-aa34-0b319b29fbad",
   "metadata": {},
   "outputs": [
    {
     "name": "stdout",
     "output_type": "stream",
     "text": [
      "Kategori Terlaris menurut Lokasi: [6, 0, 5, 6]\n"
     ]
    }
   ],
   "source": [
    "import numpy as np\n",
    "\n",
    "# Asumsikan data penjualan Anda berada dalam array NumPy bernama \"sales_data\"\n",
    "\n",
    "# Langkah 1: Hitung total penjualan per kategori di semua ukuran untuk setiap lokasi\n",
    "total_per_kategori = data.sum(axis=2)  # Jumlahkan sepanjang sumbu ukuran (axis=2)\n",
    "\n",
    "# Langkah 2: Identifikasi kategori terlaris untuk setiap lokasi\n",
    "# Pendekatan tanpa menggunakan argmax\n",
    "\n",
    "# Temukan nilai maksimum untuk setiap lokasi\n",
    "maks_penjualan_per_lokasi = total_per_kategori.max(axis=1)  # Cari nilai maksimum di setiap baris\n",
    "\n",
    "# Buat mask untuk kategori terlaris di setiap lokasi\n",
    "mask_terlaris = total_per_kategori == maks_penjualan_per_lokasi[:, np.newaxis]  # Perbandingan elemen-per-elemen\n",
    "\n",
    "# Dapatkan indeks kategori untuk kategori terlaris\n",
    "kategori_terlaris = []\n",
    "for mask in mask_terlaris:\n",
    "    for i in range(len(mask)):\n",
    "        if mask[i] == True:\n",
    "            kategori_terlaris.append(i)\n",
    "        \n",
    "# Tampilkan hasilnya\n",
    "print(\"Kategori Terlaris menurut Lokasi:\", kategori_terlaris)"
   ]
  },
  {
   "cell_type": "markdown",
   "id": "583410eb-aa04-4eb6-878d-369df504aa41",
   "metadata": {},
   "source": [
    "2. **Bandingkan Distribusi Ukuran untuk Kategori Spesifik:**\n",
    "\n",
    "    * Fokus pada kategori tertentu (misalnya, kemeja) di semua lokasi.\n",
    "    * Gunakan teknik slicing atau pengindeksan array untuk memilih hanya data penjualan kategori tersebut.\n",
    "    * Hitung total penjualan untuk setiap ukuran (jumlahkan di sepanjang sumbu ukuran).\n",
    "    * Analisa distribusi ukuran (misalnya, ukuran mana yang paling banyak terjual untuk kategori tersebut secara keseluruhan)."
   ]
  },
  {
   "cell_type": "markdown",
   "id": "3ce464f3-b5b5-4727-af22-3ba846c431b7",
   "metadata": {},
   "source": [
    "## TODO"
   ]
  },
  {
   "cell_type": "code",
   "execution_count": 23,
   "id": "e9bd41bb-8844-49de-bdc8-54429f92ab78",
   "metadata": {},
   "outputs": [
    {
     "name": "stdout",
     "output_type": "stream",
     "text": [
      "Total Penjualan Kemeja per Ukuran: [ 85. 101.  67.  69.]\n",
      "Ukuran Kemeja Terpopuler: 1\n"
     ]
    }
   ],
   "source": [
    "import numpy as np\n",
    "\n",
    "# Asumsikan data penjualan Anda berada dalam array NumPy bernama \"sales_data\"\n",
    "\n",
    "# Langkah 1: Pilih data untuk kategori tertentu (misalnya, kemeja)\n",
    "# Ganti \"category_index\" dengan indeks aktual untuk kemeja\n",
    "kategori_yang_diminati = 0  # Misalkan kemeja adalah kategori 0\n",
    "penjualan_kemeja = data[:, kategori_yang_diminati, :]  # Pilih data untuk kategori ini\n",
    "\n",
    "# Langkah 2: Hitung total penjualan untuk setiap ukuran (jumlahkan sepanjang sumbu ukuran)\n",
    "total_per_ukuran = penjualan_kemeja.sum(axis=0)  # Jumlahkan di semua lokasi\n",
    "\n",
    "# Langkah 3: Analisis distribusi ukuran (tanpa argmax)\n",
    "# Temukan nilai maksimum untuk total penjualan tiap ukuran\n",
    "maks_penjualan_ukuran = total_per_ukuran.max()  # Cari total penjualan maksimum\n",
    "\n",
    "# Buat mask untuk ukuran terpopuler\n",
    "mask_terpopuler = total_per_ukuran == maks_penjualan_ukuran  # Bandingkan dengan nilai maksimum\n",
    "\n",
    "# Identifikasi ukuran terpopuler (menangani kemungkinan seri)\n",
    "ukuran_terpopuler = np.where(mask_terpopuler)[0]  # Dapatkan indeks elemen True\n",
    "\n",
    "# Tampilkan hasilnya\n",
    "print(\"Total Penjualan Kemeja per Ukuran:\", total_per_ukuran)\n",
    "\n",
    "# Tampilkan ukuran terpopuler (menangani seri)\n",
    "if len(ukuran_terpopuler) > 1:\n",
    "  print(\"Ukuran Kemeja Terpopuler:\", ukuran_terpopuler)\n",
    "else:\n",
    "  print(\"Ukuran Kemeja Terpopuler:\", ukuran_terpopuler[0])"
   ]
  },
  {
   "cell_type": "markdown",
   "id": "d8bbb806-b7c7-418f-abf0-02908b18561f",
   "metadata": {},
   "source": [
    "3. **Temukan Lokasi dengan Penjualan Rendah pada Ukuran Tertentu:**\n",
    "\n",
    "    * Tentukan ukuran tertentu (misalnya, XL) yang mungkin perlu diisi ulang stoknya.\n",
    "    * Gunakan masking boolean untuk memilih hanya data penjualan ukuran tersebut dari seluruh array.\n",
    "    * Hitung total penjualan produk dengan ukuran tersebut di setiap lokasi (jumlahkan di sepanjang semua sumbu lainnya).\n",
    "    * Identifikasi lokasi dengan penjualan di bawah ambang batas tertentu untuk produk dengan ukuran tersebut, yang menunjukkan potensi kebutuhan untuk mengisi ulang stok."
   ]
  },
  {
   "cell_type": "code",
   "execution_count": 25,
   "id": "309ac980-c0ce-4d3c-bce0-fc0e8d586449",
   "metadata": {},
   "outputs": [
    {
     "name": "stdout",
     "output_type": "stream",
     "text": [
      "Lokasi dengan Penjualan XL Rendah: []\n",
      "Total Penjualan XL per Lokasi: 533.0\n"
     ]
    },
    {
     "name": "stderr",
     "output_type": "stream",
     "text": [
      "/tmp/ipykernel_2535693/3546558514.py:18: DeprecationWarning: Calling nonzero on 0d arrays is deprecated, as it behaves surprisingly. Use `atleast_1d(cond).nonzero()` if the old behavior was intended. If the context of this warning is of the form `arr[nonzero(cond)]`, just use `arr[cond]`.\n",
      "  print(\"Lokasi dengan Penjualan XL Rendah:\", np.where(lokasi_stok_rendah)[0])\n"
     ]
    }
   ],
   "source": [
    "import numpy as np\n",
    "\n",
    "# Asumsikan data penjualan Anda berada dalam array NumPy bernama \"sales_data\"\n",
    "\n",
    "# Langkah 1: Pilih data untuk ukuran tertentu (misalnya, XL)\n",
    "# Ganti \"size_index\" dengan indeks aktual untuk XL\n",
    "ukuran_yang_dicek = 2  # Misalkan XL adalah ukuran 2\n",
    "penjualan_xl = data[:, :, ukuran_yang_dicek]  # Pilih data untuk ukuran ini\n",
    "\n",
    "# Langkah 2: Hitung total penjualan untuk ukuran XL di setiap lokasi (jumlahkan di semua sumbu lainnya)\n",
    "total_penjualan_xl = penjualan_xl.sum(axis=(0, 1))  # Jumlahkan di semua kategori dan ukuran\n",
    "\n",
    "# Langkah 3: Identifikasi lokasi dengan potensi stok rendah (ambang batas)\n",
    "ambang_penjualan = 10  # Tetapkan ambang batas penjualan untuk stok rendah\n",
    "lokasi_stok_rendah = total_penjualan_xl < ambang_penjualan\n",
    "\n",
    "# Tampilkan hasilnya\n",
    "print(\"Lokasi dengan Penjualan XL Rendah:\", np.where(lokasi_stok_rendah)[0])\n",
    "print(\"Total Penjualan XL per Lokasi:\", total_penjualan_xl)  # Opsional untuk referensi"
   ]
  }
 ],
 "metadata": {
  "kernelspec": {
   "display_name": "Python 3 (ipykernel)",
   "language": "python",
   "name": "python3"
  },
  "language_info": {
   "codemirror_mode": {
    "name": "ipython",
    "version": 3
   },
   "file_extension": ".py",
   "mimetype": "text/x-python",
   "name": "python",
   "nbconvert_exporter": "python",
   "pygments_lexer": "ipython3",
   "version": "3.11.9"
  }
 },
 "nbformat": 4,
 "nbformat_minor": 5
}

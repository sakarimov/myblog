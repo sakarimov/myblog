{
 "cells": [
  {
   "cell_type": "markdown",
   "metadata": {},
   "source": [
    "---\n",
    "title: Solusi Tugas numpy 1\n",
    "date: '2024-06-10'\n",
    "author: sulthan a. karimov\n",
    "categories:\n",
    "  - data science\n",
    "  - exercise\n",
    "  - python\n",
    "  - numpy\n",
    "  - basic\n",
    "  - solution\n",
    "publish: true\n",
    "include-in-header:\n",
    "  file: ../../assets/javascripts/revealeanswer.html\n",
    "jupyter:\n",
    "  jupytext:\n",
    "    text_representation:\n",
    "      extension: .qmd\n",
    "      format_name: quarto\n",
    "      format_version: '1.0'\n",
    "      jupytext_version: 1.16.2\n",
    "  kernelspec:\n",
    "    display_name: Python 3 (ipykernel)\n",
    "    language: python\n",
    "    name: python3\n",
    "---\n"
   ]
  },
  {
   "cell_type": "code",
   "execution_count": null,
   "metadata": {},
   "outputs": [],
   "source": [
    "import numpy as np\n",
    "\n",
    "load_file = np.loadtxt('numpy data1.txt')\n",
    "data = load_file.reshape(4,7,4)"
   ]
  },
  {
   "cell_type": "markdown",
   "metadata": {},
   "source": [
    "1. **Identifikasi Kategori Penjualan Tertinggi menurut Lokasi (Slicing Lanjutan):**\n",
    "\n",
    "::: {.answer}\n",
    "    * Gunakan teknik slicing tingkat lanjut dalam NumPy untuk menghitung total penjualan untuk setiap kategori di semua ukuran di setiap lokasi.\n",
    "    * Petunjuk: Anda dapat menggabungkan slicing dasar (`:`) untuk memilih lokasi tertentu dan masking boolean untuk menjumlahkan di sepanjang sumbu kategori.\n",
    "    * Identifikasi kategori dengan penjualan tertinggi untuk setiap lokasi."
   ]
  },
  {
   "cell_type": "code",
   "execution_count": null,
   "metadata": {},
   "outputs": [],
   "source": [
    "data"
   ]
  },
  {
   "cell_type": "code",
   "execution_count": null,
   "metadata": {},
   "outputs": [],
   "source": [
    "import numpy as np\n",
    "\n",
    "# Asumsikan data penjualan Anda berada dalam array NumPy bernama \"sales_data\"\n",
    "\n",
    "# Langkah 1: Hitung total penjualan per kategori di semua ukuran untuk setiap lokasi\n",
    "total_per_kategori = data.sum(axis=2)  # Jumlahkan sepanjang sumbu ukuran (axis=2)\n",
    "\n",
    "# Langkah 2: Identifikasi kategori terlaris untuk setiap lokasi\n",
    "# Pendekatan tanpa menggunakan argmax\n",
    "\n",
    "# Temukan nilai maksimum untuk setiap lokasi\n",
    "maks_penjualan_per_lokasi = total_per_kategori.max(axis=1)  # Cari nilai maksimum di setiap baris\n",
    "\n",
    "# Buat mask untuk kategori terlaris di setiap lokasi\n",
    "mask_terlaris = total_per_kategori == maks_penjualan_per_lokasi[:, np.newaxis]  # Perbandingan elemen-per-elemen\n",
    "\n",
    "# Dapatkan indeks kategori untuk kategori terlaris\n",
    "kategori_terlaris = []\n",
    "for mask in mask_terlaris:\n",
    "    for i in range(len(mask)):\n",
    "        if mask[i] == True:\n",
    "            kategori_terlaris.append(i)\n",
    "        \n",
    "# Tampilkan hasilnya\n",
    "print(\"Kategori Terlaris menurut Lokasi:\", kategori_terlaris)"
   ]
  },
  {
   "cell_type": "markdown",
   "metadata": {},
   "source": [
    ":::\n",
    "\n",
    "2. **Bandingkan Distribusi Ukuran untuk Kategori Spesifik:**\n",
    "\n",
    "::: {.answer}\n",
    "    * Fokus pada kategori tertentu (misalnya, kemeja) di semua lokasi.\n",
    "    * Gunakan teknik slicing atau pengindeksan array untuk memilih hanya data penjualan kategori tersebut.\n",
    "    * Hitung total penjualan untuk setiap ukuran (jumlahkan di sepanjang sumbu ukuran).\n",
    "    * Analisa distribusi ukuran (misalnya, ukuran mana yang paling banyak terjual untuk kategori tersebut secara keseluruhan).\n",
    "\n",
    "## TODO"
   ]
  },
  {
   "cell_type": "code",
   "execution_count": null,
   "metadata": {},
   "outputs": [],
   "source": [
    "import numpy as np\n",
    "\n",
    "# Asumsikan data penjualan Anda berada dalam array NumPy bernama \"sales_data\"\n",
    "\n",
    "# Langkah 1: Pilih data untuk kategori tertentu (misalnya, kemeja)\n",
    "# Ganti \"category_index\" dengan indeks aktual untuk kemeja\n",
    "kategori_yang_diminati = 0  # Misalkan kemeja adalah kategori 0\n",
    "penjualan_kemeja = data[:, kategori_yang_diminati, :]  # Pilih data untuk kategori ini\n",
    "\n",
    "# Langkah 2: Hitung total penjualan untuk setiap ukuran (jumlahkan sepanjang sumbu ukuran)\n",
    "total_per_ukuran = penjualan_kemeja.sum(axis=0)  # Jumlahkan di semua lokasi\n",
    "\n",
    "# Langkah 3: Analisis distribusi ukuran (tanpa argmax)\n",
    "# Temukan nilai maksimum untuk total penjualan tiap ukuran\n",
    "maks_penjualan_ukuran = total_per_ukuran.max()  # Cari total penjualan maksimum\n",
    "\n",
    "# Buat mask untuk ukuran terpopuler\n",
    "mask_terpopuler = total_per_ukuran == maks_penjualan_ukuran  # Bandingkan dengan nilai maksimum\n",
    "\n",
    "# Identifikasi ukuran terpopuler (menangani kemungkinan seri)\n",
    "ukuran_terpopuler = np.where(mask_terpopuler)[0]  # Dapatkan indeks elemen True\n",
    "\n",
    "# Tampilkan hasilnya\n",
    "print(\"Total Penjualan Kemeja per Ukuran:\", total_per_ukuran)\n",
    "\n",
    "# Tampilkan ukuran terpopuler (menangani seri)\n",
    "if len(ukuran_terpopuler) > 1:\n",
    "  print(\"Ukuran Kemeja Terpopuler:\", ukuran_terpopuler)\n",
    "else:\n",
    "  print(\"Ukuran Kemeja Terpopuler:\", ukuran_terpopuler[0])"
   ]
  },
  {
   "cell_type": "markdown",
   "metadata": {},
   "source": [
    ":::\n",
    "\n",
    "3. **Temukan Lokasi dengan Penjualan Rendah pada Ukuran Tertentu:**\n",
    "\n",
    "::: {.answer}\n",
    "    * Tentukan ukuran tertentu (misalnya, XL) yang mungkin perlu diisi ulang stoknya.\n",
    "    * Gunakan masking boolean untuk memilih hanya data penjualan ukuran tersebut dari seluruh array.\n",
    "    * Hitung total penjualan produk dengan ukuran tersebut di setiap lokasi (jumlahkan di sepanjang semua sumbu lainnya).\n",
    "    * Identifikasi lokasi dengan penjualan di bawah ambang batas tertentu untuk produk dengan ukuran tersebut, yang menunjukkan potensi kebutuhan untuk mengisi ulang stok."
   ]
  },
  {
   "cell_type": "code",
   "execution_count": null,
   "metadata": {},
   "outputs": [],
   "source": [
    "import numpy as np\n",
    "\n",
    "# Asumsikan data penjualan Anda berada dalam array NumPy bernama \"sales_data\"\n",
    "\n",
    "# Langkah 1: Pilih data untuk ukuran tertentu (misalnya, XL)\n",
    "# Ganti \"size_index\" dengan indeks aktual untuk XL\n",
    "ukuran_yang_dicek = 2  # Misalkan XL adalah ukuran 2\n",
    "penjualan_xl = data[:, :, ukuran_yang_dicek]  # Pilih data untuk ukuran ini\n",
    "\n",
    "# Langkah 2: Hitung total penjualan untuk ukuran XL di setiap lokasi (jumlahkan di semua sumbu lainnya)\n",
    "total_penjualan_xl = penjualan_xl.sum(axis=(0, 1))  # Jumlahkan di semua kategori dan ukuran\n",
    "\n",
    "# Langkah 3: Identifikasi lokasi dengan potensi stok rendah (ambang batas)\n",
    "ambang_penjualan = 10  # Tetapkan ambang batas penjualan untuk stok rendah\n",
    "lokasi_stok_rendah = total_penjualan_xl < ambang_penjualan\n",
    "\n",
    "# Tampilkan hasilnya\n",
    "print(\"Lokasi dengan Penjualan XL Rendah:\", np.where(lokasi_stok_rendah)[0])\n",
    "print(\"Total Penjualan XL per Lokasi:\", total_penjualan_xl)  # Opsional untuk referensi"
   ]
  },
  {
   "cell_type": "markdown",
   "metadata": {},
   "source": [
    ":::"
   ]
  }
 ],
 "metadata": {
  "kernelspec": {
   "display_name": "Python 3 (ipykernel)",
   "language": "python",
   "name": "python3"
  }
 },
 "nbformat": 4,
 "nbformat_minor": 4
}
